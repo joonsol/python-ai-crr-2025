{
  "nbformat": 4,
  "nbformat_minor": 0,
  "metadata": {
    "colab": {
      "provenance": [],
      "toc_visible": true,
      "authorship_tag": "ABX9TyPcV3n2SAv5XQbAduDgYdq9",
      "include_colab_link": true
    },
    "kernelspec": {
      "name": "python3",
      "display_name": "Python 3"
    },
    "language_info": {
      "name": "python"
    }
  },
  "cells": [
    {
      "cell_type": "markdown",
      "metadata": {
        "id": "view-in-github",
        "colab_type": "text"
      },
      "source": [
        "<a href=\"https://colab.research.google.com/github/joonsol/python-ai-crr-2025/blob/main/python_basic.ipynb\" target=\"_parent\"><img src=\"https://colab.research.google.com/assets/colab-badge.svg\" alt=\"Open In Colab\"/></a>"
      ]
    },
    {
      "cell_type": "code",
      "execution_count": null,
      "metadata": {
        "id": "YHIqc7YCR0aJ"
      },
      "outputs": [],
      "source": []
    },
    {
      "cell_type": "markdown",
      "source": [
        "# 1.자료형 출력하기"
      ],
      "metadata": {
        "id": "1qvRtTcbTvb6"
      }
    },
    {
      "cell_type": "code",
      "source": [
        "print(\"hello python!\")"
      ],
      "metadata": {
        "colab": {
          "base_uri": "https://localhost:8080/"
        },
        "id": "Rf16jZ4EUDCu",
        "outputId": "11d64584-4bd5-4d33-d6f9-bb3ac6348c9f"
      },
      "execution_count": null,
      "outputs": [
        {
          "output_type": "stream",
          "name": "stdout",
          "text": [
            "hello python!\n"
          ]
        }
      ]
    },
    {
      "cell_type": "code",
      "source": [
        "# 정수형\n",
        "x = 10\n",
        "y = 5\n",
        "z= x+y\n",
        "\n",
        "print(z)\n",
        "print(type(z))\n",
        "print(f\"{x}와 {y}의 합은 {z}입니다.\")"
      ],
      "metadata": {
        "colab": {
          "base_uri": "https://localhost:8080/"
        },
        "id": "7WI6PxpJU4wO",
        "outputId": "1a778f98-f2b5-4056-feb4-9dce95df86ba"
      },
      "execution_count": null,
      "outputs": [
        {
          "output_type": "stream",
          "name": "stdout",
          "text": [
            "15\n",
            "<class 'int'>\n",
            "10와 5의 합은 15입니다.\n"
          ]
        }
      ]
    },
    {
      "cell_type": "code",
      "source": [
        "# 실수형\n",
        "pi=3.14159\n",
        "radius = 5\n",
        "area =pi*radius*radius\n",
        "\n",
        "print(area)\n",
        "print(f\"pi: {pi}, radius:{radius}, area:{area}\")\n",
        "print(type(area))"
      ],
      "metadata": {
        "colab": {
          "base_uri": "https://localhost:8080/"
        },
        "id": "-Wr5lj1UVxTF",
        "outputId": "542e56dc-2817-4126-99c2-8f1e139354df"
      },
      "execution_count": null,
      "outputs": [
        {
          "output_type": "stream",
          "name": "stdout",
          "text": [
            "78.53975\n",
            "pi: 3.14159, radius:5, area:78.53975\n",
            "<class 'float'>\n"
          ]
        }
      ]
    },
    {
      "cell_type": "code",
      "source": [
        "# 문자열\n",
        "name=\"Jhon\"\n",
        "greeting = f\"Hello, {name}\"\n",
        "\n",
        "print(greeting)\n",
        "print(type(greeting))"
      ],
      "metadata": {
        "colab": {
          "base_uri": "https://localhost:8080/"
        },
        "id": "lv_OTQ75Wb80",
        "outputId": "aa491798-d86f-48a7-8768-cae674584924"
      },
      "execution_count": null,
      "outputs": [
        {
          "output_type": "stream",
          "name": "stdout",
          "text": [
            "Hello, Jhon\n",
            "<class 'str'>\n"
          ]
        }
      ]
    },
    {
      "cell_type": "code",
      "source": [
        "# boolean\n",
        "is_active = False\n",
        "\n",
        "if is_active:\n",
        "    print(\"활성화입니다.\")\n",
        "else:\n",
        "    print(\"비활성화입니다.\")\n",
        "\n",
        "\n",
        "print(type(is_active))"
      ],
      "metadata": {
        "colab": {
          "base_uri": "https://localhost:8080/"
        },
        "id": "ILkKTk6NWz_8",
        "outputId": "96f522a0-51c1-4031-e6c1-1b6ae96b6b1b"
      },
      "execution_count": null,
      "outputs": [
        {
          "output_type": "stream",
          "name": "stdout",
          "text": [
            "비활성화입니다.\n",
            "<class 'bool'>\n"
          ]
        }
      ]
    },
    {
      "cell_type": "code",
      "source": [
        "# list\n",
        "\n",
        "numbers =[1,2,3,4,5]\n",
        "numbers.append(6)\n",
        "print(numbers)\n",
        "\n",
        "print(f\"리스의 길이:{len(numbers)}\")\n",
        "print(type(numbers))"
      ],
      "metadata": {
        "colab": {
          "base_uri": "https://localhost:8080/"
        },
        "id": "5UQ8nkLSXiZl",
        "outputId": "a9ad71b6-8377-4404-8859-bf66f1c341d5"
      },
      "execution_count": null,
      "outputs": [
        {
          "output_type": "stream",
          "name": "stdout",
          "text": [
            "[1, 2, 3, 4, 5, 6]\n",
            "리스의 길이:6\n",
            "<class 'list'>\n"
          ]
        }
      ]
    },
    {
      "cell_type": "code",
      "source": [
        "# tuple\n",
        "coordinates =(10,20)\n",
        "\n",
        "# coordinates[0]=30\n",
        "print(coordinates[1])\n",
        "print(type(coordinates))"
      ],
      "metadata": {
        "colab": {
          "base_uri": "https://localhost:8080/"
        },
        "id": "VNRwxoz1YUcz",
        "outputId": "bcf7b188-ad58-4de3-e1e0-e2dcfaec62be"
      },
      "execution_count": null,
      "outputs": [
        {
          "output_type": "stream",
          "name": "stdout",
          "text": [
            "20\n",
            "<class 'tuple'>\n"
          ]
        }
      ]
    },
    {
      "cell_type": "code",
      "source": [
        "# dict\n",
        "person={\n",
        "    \"name\":\"Alice\",\n",
        "    \"age\":30,\n",
        "    \"city\":\"seoul\"\n",
        "}\n",
        "print(person[\"age\"])\n",
        "print(person[\"city\"])\n",
        "print(person[\"name\"])\n",
        "print(type(person))\n"
      ],
      "metadata": {
        "colab": {
          "base_uri": "https://localhost:8080/"
        },
        "id": "1r8WunEGYvIq",
        "outputId": "23933d00-893e-4834-ca1a-f24c79ee9258"
      },
      "execution_count": null,
      "outputs": [
        {
          "output_type": "stream",
          "name": "stdout",
          "text": [
            "30\n",
            "seoul\n",
            "Alice\n",
            "<class 'dict'>\n"
          ]
        }
      ]
    },
    {
      "cell_type": "code",
      "source": [
        "# set\n",
        "unique_numbers ={1,2,3,4,4,5,1,6}\n",
        "print(unique_numbers)\n",
        "print(type(unique_numbers))"
      ],
      "metadata": {
        "colab": {
          "base_uri": "https://localhost:8080/"
        },
        "id": "hf2fvMjXZT2C",
        "outputId": "e8a16bfe-0569-4c32-ad3e-0157b07fa20b"
      },
      "execution_count": null,
      "outputs": [
        {
          "output_type": "stream",
          "name": "stdout",
          "text": [
            "{1, 2, 3, 4, 5, 6}\n",
            "<class 'set'>\n"
          ]
        }
      ]
    },
    {
      "cell_type": "markdown",
      "source": [
        "# 2.문자열 처리"
      ],
      "metadata": {
        "id": "CuvvD2dHbDI4"
      }
    },
    {
      "cell_type": "code",
      "source": [
        "text =\"hello python!\"\n",
        "print(text)\n",
        "print(text[0])\n",
        "print(text[-1])\n",
        "print(text[0:5])\n",
        "print(text[6:])\n",
        "print(text[:5])"
      ],
      "metadata": {
        "colab": {
          "base_uri": "https://localhost:8080/"
        },
        "id": "LMlkVpi3bVCF",
        "outputId": "85b2b42b-734f-466b-b5f5-cef8054fd10a"
      },
      "execution_count": 7,
      "outputs": [
        {
          "output_type": "stream",
          "name": "stdout",
          "text": [
            "hello python!\n",
            "h\n",
            "!\n",
            "hello\n",
            "python!\n",
            "hello\n"
          ]
        }
      ]
    },
    {
      "cell_type": "code",
      "source": [
        "name =\"Alice\"\n",
        "age=25\n",
        "print(f\"{name}의 나이는 {age}세 입니다.\")\n",
        "print(\"{}의 나이는 {}세 입니다.\".format(name,age))\n",
        "print(\"%s의 나이는 %d세 입니다.\"%(name,age))"
      ],
      "metadata": {
        "colab": {
          "base_uri": "https://localhost:8080/"
        },
        "id": "QBYse6lNcPd-",
        "outputId": "d1d62a67-1656-4047-a2a4-e659b4d29dd5"
      },
      "execution_count": 11,
      "outputs": [
        {
          "output_type": "stream",
          "name": "stdout",
          "text": [
            "Alice의 나이는 25세 입니다.\n",
            "Alice의 나이는 25세 입니다.\n",
            "Alice의 나이는 25세 입니다.\n"
          ]
        }
      ]
    },
    {
      "cell_type": "code",
      "source": [
        "s=\" Hello Python \"\n",
        "print(s)\n",
        "print(s.strip())\n",
        "print(s.upper())\n",
        "print(s.lower())"
      ],
      "metadata": {
        "colab": {
          "base_uri": "https://localhost:8080/"
        },
        "id": "R88EoEgSc8JN",
        "outputId": "3a3be778-e8f4-4bc3-c6d6-f081a5c64111"
      },
      "execution_count": 16,
      "outputs": [
        {
          "output_type": "stream",
          "name": "stdout",
          "text": [
            " Hello Python \n",
            "Hello Python\n",
            " HELLO PYTHON \n",
            " hello python \n"
          ]
        }
      ]
    },
    {
      "cell_type": "markdown",
      "source": [
        "# 3.사용자입력"
      ],
      "metadata": {
        "id": "aR5u9RjIbI5W"
      }
    },
    {
      "cell_type": "code",
      "source": [
        "name =input(\"이름을 입력하세요 : \")\n",
        "age = input(\"나이를 입력하세요 : \")\n",
        "print(f\"{name}님 안녕하세요! 당신의 나이는 {age}세 입니다. \")"
      ],
      "metadata": {
        "colab": {
          "base_uri": "https://localhost:8080/"
        },
        "id": "CmFp_bm9daR2",
        "outputId": "abbcf57b-d799-4b84-f981-66b7916d352c"
      },
      "execution_count": 19,
      "outputs": [
        {
          "output_type": "stream",
          "name": "stdout",
          "text": [
            "이름을 입력하세요 : alice\n",
            "나이를 입력하세요 : 20\n",
            "alice님 안녕하세요! 당신의 나이는 20입니다. \n"
          ]
        }
      ]
    },
    {
      "cell_type": "code",
      "source": [
        "x,y = input(\"두 숫자를 입력하세요 예(10,20) :\").split(\",\")\n",
        "print(f\"x: {x}, y: {y}\")"
      ],
      "metadata": {
        "colab": {
          "base_uri": "https://localhost:8080/"
        },
        "id": "GFMV9owzeRlF",
        "outputId": "9cd478eb-56bb-4b21-d5ed-9cb97c5a726b"
      },
      "execution_count": 21,
      "outputs": [
        {
          "output_type": "stream",
          "name": "stdout",
          "text": [
            "두 숫자를 입력하세요 예(10,20) :5,9\n",
            "x: 5, y: 9\n"
          ]
        }
      ]
    },
    {
      "cell_type": "markdown",
      "source": [
        "# 4.연산자"
      ],
      "metadata": {
        "id": "MlDH4tUnfS40"
      }
    },
    {
      "cell_type": "code",
      "source": [
        "a= int(input(\"첫번째 숫자를 입력하세요 :\"))\n",
        "b= int(input(\"두번째 숫자를 입력하세요 :\"))\n",
        "\n",
        "print(\"덧셈: \",a+b)\n",
        "print(\"뺄셈: \",a-b)\n",
        "print(\"곱셈: \",a*b)\n",
        "print(\"나눗셈: \",a/b)\n",
        "print(\"몫: \",a//b)\n",
        "print(\"나머지: \",a%b)\n",
        "print(\"거듭제곱 \",a**b)"
      ],
      "metadata": {
        "colab": {
          "base_uri": "https://localhost:8080/"
        },
        "id": "CrxkqOyMfYxd",
        "outputId": "c2f9daa6-6a73-4556-ab59-1c68b2fc08f4"
      },
      "execution_count": 23,
      "outputs": [
        {
          "output_type": "stream",
          "name": "stdout",
          "text": [
            "첫번째 숫자를 입력하세요 :8\n",
            "두번째 숫자를 입력하세요 :7\n",
            "덧셈:  15\n",
            "뺄셈:  1\n",
            "곱셈:  56\n",
            "나눗셈:  1.1428571428571428\n",
            "몫:  1\n",
            "나머지:  1\n",
            "거듭제곱  2097152\n"
          ]
        }
      ]
    },
    {
      "cell_type": "code",
      "source": [
        "age=int(input(\"나이를 입력하세요 : \"))\n",
        "\n",
        "is_teenager = age>=13  and age <=19\n",
        "\n",
        "print(\"청소년 여부: \",is_teenager)"
      ],
      "metadata": {
        "colab": {
          "base_uri": "https://localhost:8080/"
        },
        "id": "lv_7THaDgiot",
        "outputId": "35ab01c3-e41b-4f66-dd97-9ec67dd0cb76"
      },
      "execution_count": 25,
      "outputs": [
        {
          "output_type": "stream",
          "name": "stdout",
          "text": [
            "나이를 입력하세요25\n",
            "청소년 여부:  False\n"
          ]
        }
      ]
    },
    {
      "cell_type": "code",
      "source": [
        "score = int(input(\"점수를 입력하세요 : \"))\n",
        "\n",
        "if score>=60:\n",
        "    print(\"합격입니다.\")\n",
        "else:\n",
        "    print(\"불합격입니다.\")"
      ],
      "metadata": {
        "colab": {
          "base_uri": "https://localhost:8080/"
        },
        "id": "ruArY202hTm0",
        "outputId": "f2698c7a-460f-4f15-d534-0bec7b9f0856"
      },
      "execution_count": 28,
      "outputs": [
        {
          "output_type": "stream",
          "name": "stdout",
          "text": [
            "점수를 입력하세요 : 85\n",
            "합격입니다.\n"
          ]
        }
      ]
    },
    {
      "cell_type": "markdown",
      "source": [
        "# 5.실습문제"
      ],
      "metadata": {
        "id": "_UchiYeEiIuE"
      }
    },
    {
      "cell_type": "code",
      "source": [
        "# 사용자로부터 이름과 나이를 입력받아 다음 형식으로 출력하시오.\n",
        "name =input(\"이름을 입력하세요\")\n",
        "age=input(\"나이를 입력하세요\")\n",
        "\n",
        "print(f\"{name}은 {age}세 입니다.\")"
      ],
      "metadata": {
        "colab": {
          "base_uri": "https://localhost:8080/"
        },
        "id": "zpK8seHZiMSk",
        "outputId": "0246004f-1021-4eda-cee1-33dc5c62cfdc"
      },
      "execution_count": 29,
      "outputs": [
        {
          "output_type": "stream",
          "name": "stdout",
          "text": [
            "이름을 입력하세요alice\n",
            "나이를 입력하세요20\n",
            "alice은 20세 입니다.\n"
          ]
        }
      ]
    },
    {
      "cell_type": "code",
      "source": [
        "# 두 개의 정수를 입력받아, 덧셈 결과를 출력하시오.\n",
        "num1=int(input(\"첫번째 숫자를 입력하세요 :\"))\n",
        "num2=int(input(\"두번째 숫자를 입력하세요 :\"))\n",
        "\n",
        "print(f\"{num1} + {num2} = {num1+num2}\")"
      ],
      "metadata": {
        "colab": {
          "base_uri": "https://localhost:8080/"
        },
        "id": "OoBNTQrhiQlT",
        "outputId": "a2c6dc82-95d4-4ff6-e284-a9a11674166d"
      },
      "execution_count": 31,
      "outputs": [
        {
          "output_type": "stream",
          "name": "stdout",
          "text": [
            "첫번째 숫자를 입력하세요 :10\n",
            "두번째 숫자를 입력하세요 :5\n",
            "10 + 5 = 15\n"
          ]
        }
      ]
    },
    {
      "cell_type": "code",
      "source": [
        "# 사용자로부터 반지름을 입력받아 원의 넓이를 계산하시오.\n",
        "# (원의 넓이 = 3.14 × 반지름²)\n",
        "\n",
        "pi=3.14\n",
        "\n",
        "radius = int(input(\"반지름을 입력하세요 :\"))\n",
        "\n",
        "area =pi*radius*radius\n",
        "\n",
        "print(f\"원의 넓이: {area}\")\n",
        "print(f\"원의 넓이: {area:.2f}\")#소숫점 둘째자리까지"
      ],
      "metadata": {
        "colab": {
          "base_uri": "https://localhost:8080/"
        },
        "id": "e0DBguY1iWUj",
        "outputId": "49524e1a-d090-4c8e-f4ed-cf549a022046"
      },
      "execution_count": 34,
      "outputs": [
        {
          "output_type": "stream",
          "name": "stdout",
          "text": [
            "반지름을 입력하세요 :6\n",
            "원의 넓이: 113.03999999999999\n",
            "원의 넓이: 113.04\n"
          ]
        }
      ]
    },
    {
      "cell_type": "code",
      "source": [
        "# 사용자로부터 정수를 입력받아 짝수인지 홀수인지 판별하시오.\n",
        "num = int(input(\"숫자를 입력하세요 :\"))\n",
        "if num%2==0:\n",
        "    print(\"짝수입니다.\")\n",
        "else:\n",
        "    print(\"홀수입니다.\")\n"
      ],
      "metadata": {
        "colab": {
          "base_uri": "https://localhost:8080/"
        },
        "id": "TJPd-_UXiYpT",
        "outputId": "dbbff6ad-777b-44e5-a388-660776582169"
      },
      "execution_count": 36,
      "outputs": [
        {
          "output_type": "stream",
          "name": "stdout",
          "text": [
            "숫자를 입력하세요10\n",
            "짝수입니다.\n"
          ]
        }
      ]
    },
    {
      "cell_type": "code",
      "source": [
        "# 사용자로부터 키(cm)와 몸무게(kg)를 입력받아 BMI 지수를 계산하시오.\n",
        "\n",
        "# (BMI = 몸무게 / (키 × 키), 단 키는 m 단위로 변환)\n",
        "height = float(input(\"키를 입력하세요\"))\n",
        "weight = int(input(\"몸무게를 입력하세요\"))\n",
        "\n",
        "height_m = height/100\n",
        "\n",
        "bmi = weight/(height_m**2)\n",
        "\n",
        "print(f\"당신의 BMI는 {bmi:.2f}입니다.\")"
      ],
      "metadata": {
        "colab": {
          "base_uri": "https://localhost:8080/"
        },
        "id": "vjTv3nuCibWD",
        "outputId": "58264f64-108c-4dab-e11a-f3ae9136a340"
      },
      "execution_count": 38,
      "outputs": [
        {
          "output_type": "stream",
          "name": "stdout",
          "text": [
            "키를 입력하세요175\n",
            "몸무게를 입력하세요60\n",
            "당신의 BMI는 19.59입니다.\n"
          ]
        }
      ]
    },
    {
      "cell_type": "markdown",
      "source": [
        "# 6.조건문"
      ],
      "metadata": {
        "id": "za4c6fKmrL5x"
      }
    },
    {
      "cell_type": "code",
      "source": [
        "x=int(input(\"숫자를 입력하세요\"))\n",
        "\n",
        "if x>10:\n",
        "    print(\"x는 10보다 큽니다.\")\n",
        "elif x>5:\n",
        "    print(\"x는 5보다 큽니다.\")\n",
        "else:\n",
        "    print(\"x는 5보다 작거나 같습니다.\")\n"
      ],
      "metadata": {
        "colab": {
          "base_uri": "https://localhost:8080/"
        },
        "id": "0HAKyEHErO8w",
        "outputId": "7fc9c635-9ad4-4b60-b0f3-0323dcbea4bf"
      },
      "execution_count": 41,
      "outputs": [
        {
          "output_type": "stream",
          "name": "stdout",
          "text": [
            "숫자를 입력하세요4\n",
            "x는 5보다 작거나 같습니다.\n"
          ]
        }
      ]
    },
    {
      "cell_type": "code",
      "source": [
        "age= int(input(\"나이를 입력하세요\"))\n",
        "student=input(\"학생이면 '학생', 아니면 '기타'라고 적어주세요.\")\n",
        "\n",
        "\n",
        "if age>=18:\n",
        "    if student==\"학생\":\n",
        "        print(\"성인 학생입니다.\")\n",
        "    else:\n",
        "        print(\"성인이지만, 학생은 아닙니다.\")\n",
        "\n",
        ""
      ],
      "metadata": {
        "colab": {
          "base_uri": "https://localhost:8080/"
        },
        "id": "iKNNBPnrr8-Y",
        "outputId": "a0868c51-815f-4d7d-9d1e-04ca627694a5"
      },
      "execution_count": 43,
      "outputs": [
        {
          "name": "stdout",
          "output_type": "stream",
          "text": [
            "나이를 입력하세요17\n",
            "학생이면 '학생', 아니면 '기타'라고 적어주세요.학생\n"
          ]
        }
      ]
    },
    {
      "cell_type": "code",
      "source": [
        "x=3\n",
        "\n",
        "result = \"x는 5보다 큽니다.\" if x>5 else \"x는 5보다 작습니다.\"\n",
        "print(result)"
      ],
      "metadata": {
        "colab": {
          "base_uri": "https://localhost:8080/"
        },
        "id": "GVPU2DTWtRQw",
        "outputId": "760926e8-1efb-448a-eceb-89230a392ced"
      },
      "execution_count": 45,
      "outputs": [
        {
          "output_type": "stream",
          "name": "stdout",
          "text": [
            "x는 5보다 작습니다.\n"
          ]
        }
      ]
    },
    {
      "cell_type": "code",
      "source": [
        "x=12\n",
        "\n",
        "if x>5 and x<10:\n",
        "    print(\"x는 5보다 크고, 10보다 작습니다.\")\n",
        "\n",
        "if x<5 or x>10:\n",
        "    print(\"x는 5보다  작거나, 10보다 큽니다.\")\n",
        "else:\n",
        "    print(\"x는 5이상, 10이하입니다.\")\n"
      ],
      "metadata": {
        "colab": {
          "base_uri": "https://localhost:8080/"
        },
        "id": "XfGqA2Hztrl4",
        "outputId": "fe099af0-402f-4d4f-f493-a77aa0bd2a82"
      },
      "execution_count": 48,
      "outputs": [
        {
          "output_type": "stream",
          "name": "stdout",
          "text": [
            "x는 5보다  작거나, 10보다 큽니다.\n"
          ]
        }
      ]
    },
    {
      "cell_type": "code",
      "source": [
        "x=10\n",
        "y=20\n",
        "\n",
        "if x==y:\n",
        "    print(\"x와 y는 같습니다.\")\n",
        "elif x!=y:\n",
        "    print(\"x와 y는 같지 않습니다.\")\n"
      ],
      "metadata": {
        "colab": {
          "base_uri": "https://localhost:8080/"
        },
        "id": "z70DYEL4ubpg",
        "outputId": "defd1f7a-a723-4e6c-e7ea-d162c573f3ec"
      },
      "execution_count": 49,
      "outputs": [
        {
          "output_type": "stream",
          "name": "stdout",
          "text": [
            "x와 y는 같지 않습니다.\n"
          ]
        }
      ]
    },
    {
      "cell_type": "code",
      "source": [
        "my_list =[1,2,3,4,5]\n",
        "\n",
        "if 3 in my_list:\n",
        "    print(\"리스트에 3이 포함되 있습니다.\")\n",
        "if 6 not in my_list:\n",
        "    print(\"리스트에 6이 포함되 있지 않습니다.\")"
      ],
      "metadata": {
        "colab": {
          "base_uri": "https://localhost:8080/"
        },
        "id": "wxQhuAPauyQA",
        "outputId": "f819681f-d698-465b-836b-ec433399ff4d"
      },
      "execution_count": 51,
      "outputs": [
        {
          "output_type": "stream",
          "name": "stdout",
          "text": [
            "리스트에 3이 포함되 있습니다.\n",
            "리스트에 6이 포함되 있지 않습니다.\n"
          ]
        }
      ]
    },
    {
      "cell_type": "markdown",
      "source": [
        "# 7.실습문제"
      ],
      "metadata": {
        "id": "1Ti-3l7Xvob5"
      }
    }
  ]
}