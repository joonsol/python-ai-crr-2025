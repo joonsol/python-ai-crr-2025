{
  "nbformat": 4,
  "nbformat_minor": 0,
  "metadata": {
    "colab": {
      "provenance": [],
      "toc_visible": true,
      "authorship_tag": "ABX9TyMiFmtVmfSKrNS6N9DKmGCQ",
      "include_colab_link": true
    },
    "kernelspec": {
      "name": "python3",
      "display_name": "Python 3"
    },
    "language_info": {
      "name": "python"
    }
  },
  "cells": [
    {
      "cell_type": "markdown",
      "metadata": {
        "id": "view-in-github",
        "colab_type": "text"
      },
      "source": [
        "<a href=\"https://colab.research.google.com/github/joonsol/python-ai-crr-2025/blob/main/python_basic.ipynb\" target=\"_parent\"><img src=\"https://colab.research.google.com/assets/colab-badge.svg\" alt=\"Open In Colab\"/></a>"
      ]
    },
    {
      "cell_type": "code",
      "execution_count": null,
      "metadata": {
        "id": "YHIqc7YCR0aJ"
      },
      "outputs": [],
      "source": []
    },
    {
      "cell_type": "markdown",
      "source": [
        "# 1.자료형 출력하기"
      ],
      "metadata": {
        "id": "1qvRtTcbTvb6"
      }
    },
    {
      "cell_type": "code",
      "source": [
        "print(\"hello python!\")"
      ],
      "metadata": {
        "colab": {
          "base_uri": "https://localhost:8080/"
        },
        "id": "Rf16jZ4EUDCu",
        "outputId": "11d64584-4bd5-4d33-d6f9-bb3ac6348c9f"
      },
      "execution_count": null,
      "outputs": [
        {
          "output_type": "stream",
          "name": "stdout",
          "text": [
            "hello python!\n"
          ]
        }
      ]
    },
    {
      "cell_type": "code",
      "source": [
        "# 정수형\n",
        "x = 10\n",
        "y = 5\n",
        "z= x+y\n",
        "\n",
        "print(z)\n",
        "print(type(z))\n",
        "print(f\"{x}와 {y}의 합은 {z}입니다.\")"
      ],
      "metadata": {
        "colab": {
          "base_uri": "https://localhost:8080/"
        },
        "id": "7WI6PxpJU4wO",
        "outputId": "1a778f98-f2b5-4056-feb4-9dce95df86ba"
      },
      "execution_count": null,
      "outputs": [
        {
          "output_type": "stream",
          "name": "stdout",
          "text": [
            "15\n",
            "<class 'int'>\n",
            "10와 5의 합은 15입니다.\n"
          ]
        }
      ]
    },
    {
      "cell_type": "code",
      "source": [
        "# 실수형\n",
        "pi=3.14159\n",
        "radius = 5\n",
        "area =pi*radius*radius\n",
        "\n",
        "print(area)\n",
        "print(f\"pi: {pi}, radius:{radius}, area:{area}\")\n",
        "print(type(area))"
      ],
      "metadata": {
        "colab": {
          "base_uri": "https://localhost:8080/"
        },
        "id": "-Wr5lj1UVxTF",
        "outputId": "542e56dc-2817-4126-99c2-8f1e139354df"
      },
      "execution_count": null,
      "outputs": [
        {
          "output_type": "stream",
          "name": "stdout",
          "text": [
            "78.53975\n",
            "pi: 3.14159, radius:5, area:78.53975\n",
            "<class 'float'>\n"
          ]
        }
      ]
    },
    {
      "cell_type": "code",
      "source": [
        "# 문자열\n",
        "name=\"Jhon\"\n",
        "greeting = f\"Hello, {name}\"\n",
        "\n",
        "print(greeting)\n",
        "print(type(greeting))"
      ],
      "metadata": {
        "colab": {
          "base_uri": "https://localhost:8080/"
        },
        "id": "lv_OTQ75Wb80",
        "outputId": "aa491798-d86f-48a7-8768-cae674584924"
      },
      "execution_count": null,
      "outputs": [
        {
          "output_type": "stream",
          "name": "stdout",
          "text": [
            "Hello, Jhon\n",
            "<class 'str'>\n"
          ]
        }
      ]
    },
    {
      "cell_type": "code",
      "source": [
        "# boolean\n",
        "is_active = False\n",
        "\n",
        "if is_active:\n",
        "    print(\"활성화입니다.\")\n",
        "else:\n",
        "    print(\"비활성화입니다.\")\n",
        "\n",
        "\n",
        "print(type(is_active))"
      ],
      "metadata": {
        "colab": {
          "base_uri": "https://localhost:8080/"
        },
        "id": "ILkKTk6NWz_8",
        "outputId": "96f522a0-51c1-4031-e6c1-1b6ae96b6b1b"
      },
      "execution_count": null,
      "outputs": [
        {
          "output_type": "stream",
          "name": "stdout",
          "text": [
            "비활성화입니다.\n",
            "<class 'bool'>\n"
          ]
        }
      ]
    },
    {
      "cell_type": "code",
      "source": [
        "# list\n",
        "\n",
        "numbers =[1,2,3,4,5]\n",
        "numbers.append(6)\n",
        "print(numbers)\n",
        "\n",
        "print(f\"리스의 길이:{len(numbers)}\")\n",
        "print(type(numbers))"
      ],
      "metadata": {
        "colab": {
          "base_uri": "https://localhost:8080/"
        },
        "id": "5UQ8nkLSXiZl",
        "outputId": "a9ad71b6-8377-4404-8859-bf66f1c341d5"
      },
      "execution_count": null,
      "outputs": [
        {
          "output_type": "stream",
          "name": "stdout",
          "text": [
            "[1, 2, 3, 4, 5, 6]\n",
            "리스의 길이:6\n",
            "<class 'list'>\n"
          ]
        }
      ]
    },
    {
      "cell_type": "code",
      "source": [
        "# tuple\n",
        "coordinates =(10,20)\n",
        "\n",
        "# coordinates[0]=30\n",
        "print(coordinates[1])\n",
        "print(type(coordinates))"
      ],
      "metadata": {
        "colab": {
          "base_uri": "https://localhost:8080/"
        },
        "id": "VNRwxoz1YUcz",
        "outputId": "bcf7b188-ad58-4de3-e1e0-e2dcfaec62be"
      },
      "execution_count": null,
      "outputs": [
        {
          "output_type": "stream",
          "name": "stdout",
          "text": [
            "20\n",
            "<class 'tuple'>\n"
          ]
        }
      ]
    },
    {
      "cell_type": "code",
      "source": [
        "# dict\n",
        "person={\n",
        "    \"name\":\"Alice\",\n",
        "    \"age\":30,\n",
        "    \"city\":\"seoul\"\n",
        "}\n",
        "print(person[\"age\"])\n",
        "print(person[\"city\"])\n",
        "print(person[\"name\"])\n",
        "print(type(person))\n"
      ],
      "metadata": {
        "colab": {
          "base_uri": "https://localhost:8080/"
        },
        "id": "1r8WunEGYvIq",
        "outputId": "23933d00-893e-4834-ca1a-f24c79ee9258"
      },
      "execution_count": null,
      "outputs": [
        {
          "output_type": "stream",
          "name": "stdout",
          "text": [
            "30\n",
            "seoul\n",
            "Alice\n",
            "<class 'dict'>\n"
          ]
        }
      ]
    },
    {
      "cell_type": "code",
      "source": [
        "# set\n",
        "unique_numbers ={1,2,3,4,4,5,1,6}\n",
        "print(unique_numbers)\n",
        "print(type(unique_numbers))"
      ],
      "metadata": {
        "colab": {
          "base_uri": "https://localhost:8080/"
        },
        "id": "hf2fvMjXZT2C",
        "outputId": "e8a16bfe-0569-4c32-ad3e-0157b07fa20b"
      },
      "execution_count": null,
      "outputs": [
        {
          "output_type": "stream",
          "name": "stdout",
          "text": [
            "{1, 2, 3, 4, 5, 6}\n",
            "<class 'set'>\n"
          ]
        }
      ]
    }
  ]
}