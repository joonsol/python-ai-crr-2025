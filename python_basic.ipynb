{
  "nbformat": 4,
  "nbformat_minor": 0,
  "metadata": {
    "colab": {
      "provenance": [],
      "toc_visible": true,
      "authorship_tag": "ABX9TyNU2OY5T8toc7ttAo9OJWoO",
      "include_colab_link": true
    },
    "kernelspec": {
      "name": "python3",
      "display_name": "Python 3"
    },
    "language_info": {
      "name": "python"
    }
  },
  "cells": [
    {
      "cell_type": "markdown",
      "metadata": {
        "id": "view-in-github",
        "colab_type": "text"
      },
      "source": [
        "<a href=\"https://colab.research.google.com/github/joonsol/python-ai-crr-2025/blob/main/python_basic.ipynb\" target=\"_parent\"><img src=\"https://colab.research.google.com/assets/colab-badge.svg\" alt=\"Open In Colab\"/></a>"
      ]
    },
    {
      "cell_type": "code",
      "execution_count": null,
      "metadata": {
        "id": "YHIqc7YCR0aJ"
      },
      "outputs": [],
      "source": []
    },
    {
      "cell_type": "markdown",
      "source": [
        "# 1.자료형 출력하기"
      ],
      "metadata": {
        "id": "1qvRtTcbTvb6"
      }
    },
    {
      "cell_type": "code",
      "source": [
        "print(\"hello python!\")"
      ],
      "metadata": {
        "colab": {
          "base_uri": "https://localhost:8080/"
        },
        "id": "Rf16jZ4EUDCu",
        "outputId": "11d64584-4bd5-4d33-d6f9-bb3ac6348c9f"
      },
      "execution_count": null,
      "outputs": [
        {
          "output_type": "stream",
          "name": "stdout",
          "text": [
            "hello python!\n"
          ]
        }
      ]
    },
    {
      "cell_type": "code",
      "source": [
        "# 정수형\n",
        "x = 10\n",
        "y = 5\n",
        "z= x+y\n",
        "\n",
        "print(z)\n",
        "print(type(z))\n",
        "print(f\"{x}와 {y}의 합은 {z}입니다.\")"
      ],
      "metadata": {
        "colab": {
          "base_uri": "https://localhost:8080/"
        },
        "id": "7WI6PxpJU4wO",
        "outputId": "1a778f98-f2b5-4056-feb4-9dce95df86ba"
      },
      "execution_count": null,
      "outputs": [
        {
          "output_type": "stream",
          "name": "stdout",
          "text": [
            "15\n",
            "<class 'int'>\n",
            "10와 5의 합은 15입니다.\n"
          ]
        }
      ]
    },
    {
      "cell_type": "code",
      "source": [
        "# 실수형\n",
        "pi=3.14159\n",
        "radius = 5\n",
        "area =pi*radius*radius\n",
        "\n",
        "print(area)\n",
        "print(f\"pi: {pi}, radius:{radius}, area:{area}\")\n",
        "print(type(area))"
      ],
      "metadata": {
        "colab": {
          "base_uri": "https://localhost:8080/"
        },
        "id": "-Wr5lj1UVxTF",
        "outputId": "542e56dc-2817-4126-99c2-8f1e139354df"
      },
      "execution_count": null,
      "outputs": [
        {
          "output_type": "stream",
          "name": "stdout",
          "text": [
            "78.53975\n",
            "pi: 3.14159, radius:5, area:78.53975\n",
            "<class 'float'>\n"
          ]
        }
      ]
    },
    {
      "cell_type": "code",
      "source": [
        "# 문자열\n",
        "name=\"Jhon\"\n",
        "greeting = f\"Hello, {name}\"\n",
        "\n",
        "print(greeting)\n",
        "print(type(greeting))"
      ],
      "metadata": {
        "colab": {
          "base_uri": "https://localhost:8080/"
        },
        "id": "lv_OTQ75Wb80",
        "outputId": "aa491798-d86f-48a7-8768-cae674584924"
      },
      "execution_count": null,
      "outputs": [
        {
          "output_type": "stream",
          "name": "stdout",
          "text": [
            "Hello, Jhon\n",
            "<class 'str'>\n"
          ]
        }
      ]
    },
    {
      "cell_type": "code",
      "source": [
        "# boolean\n",
        "is_active = False\n",
        "\n",
        "if is_active:\n",
        "    print(\"활성화입니다.\")\n",
        "else:\n",
        "    print(\"비활성화입니다.\")\n",
        "\n",
        "\n",
        "print(type(is_active))"
      ],
      "metadata": {
        "colab": {
          "base_uri": "https://localhost:8080/"
        },
        "id": "ILkKTk6NWz_8",
        "outputId": "96f522a0-51c1-4031-e6c1-1b6ae96b6b1b"
      },
      "execution_count": null,
      "outputs": [
        {
          "output_type": "stream",
          "name": "stdout",
          "text": [
            "비활성화입니다.\n",
            "<class 'bool'>\n"
          ]
        }
      ]
    },
    {
      "cell_type": "code",
      "source": [
        "# list\n",
        "\n",
        "numbers =[1,2,3,4,5]\n",
        "numbers.append(6)\n",
        "print(numbers)\n",
        "\n",
        "print(f\"리스의 길이:{len(numbers)}\")\n",
        "print(type(numbers))"
      ],
      "metadata": {
        "colab": {
          "base_uri": "https://localhost:8080/"
        },
        "id": "5UQ8nkLSXiZl",
        "outputId": "a9ad71b6-8377-4404-8859-bf66f1c341d5"
      },
      "execution_count": null,
      "outputs": [
        {
          "output_type": "stream",
          "name": "stdout",
          "text": [
            "[1, 2, 3, 4, 5, 6]\n",
            "리스의 길이:6\n",
            "<class 'list'>\n"
          ]
        }
      ]
    },
    {
      "cell_type": "code",
      "source": [
        "# tuple\n",
        "coordinates =(10,20)\n",
        "\n",
        "# coordinates[0]=30\n",
        "print(coordinates[1])\n",
        "print(type(coordinates))"
      ],
      "metadata": {
        "colab": {
          "base_uri": "https://localhost:8080/"
        },
        "id": "VNRwxoz1YUcz",
        "outputId": "bcf7b188-ad58-4de3-e1e0-e2dcfaec62be"
      },
      "execution_count": null,
      "outputs": [
        {
          "output_type": "stream",
          "name": "stdout",
          "text": [
            "20\n",
            "<class 'tuple'>\n"
          ]
        }
      ]
    },
    {
      "cell_type": "markdown",
      "source": [
        "# 새 섹션"
      ],
      "metadata": {
        "id": "yzOXyuk4Li3Y"
      }
    },
    {
      "cell_type": "code",
      "source": [
        "# dict\n",
        "person={\n",
        "    \"name\":\"Alice\",\n",
        "    \"age\":30,\n",
        "    \"city\":\"seoul\"\n",
        "}\n",
        "print(person[\"age\"])\n",
        "print(person[\"city\"])\n",
        "print(person[\"name\"])\n",
        "print(type(person))\n"
      ],
      "metadata": {
        "colab": {
          "base_uri": "https://localhost:8080/"
        },
        "id": "1r8WunEGYvIq",
        "outputId": "23933d00-893e-4834-ca1a-f24c79ee9258"
      },
      "execution_count": null,
      "outputs": [
        {
          "output_type": "stream",
          "name": "stdout",
          "text": [
            "30\n",
            "seoul\n",
            "Alice\n",
            "<class 'dict'>\n"
          ]
        }
      ]
    },
    {
      "cell_type": "code",
      "source": [
        "# set\n",
        "unique_numbers ={1,2,3,4,4,5,1,6}\n",
        "print(unique_numbers)\n",
        "print(type(unique_numbers))"
      ],
      "metadata": {
        "colab": {
          "base_uri": "https://localhost:8080/"
        },
        "id": "hf2fvMjXZT2C",
        "outputId": "e8a16bfe-0569-4c32-ad3e-0157b07fa20b"
      },
      "execution_count": null,
      "outputs": [
        {
          "output_type": "stream",
          "name": "stdout",
          "text": [
            "{1, 2, 3, 4, 5, 6}\n",
            "<class 'set'>\n"
          ]
        }
      ]
    },
    {
      "cell_type": "markdown",
      "source": [
        "# 2.문자열 처리"
      ],
      "metadata": {
        "id": "CuvvD2dHbDI4"
      }
    },
    {
      "cell_type": "code",
      "source": [
        "text =\"hello python!\"\n",
        "print(text)\n",
        "print(text[0])\n",
        "print(text[-1])\n",
        "print(text[0:5])\n",
        "print(text[6:])\n",
        "print(text[:5])"
      ],
      "metadata": {
        "colab": {
          "base_uri": "https://localhost:8080/"
        },
        "id": "LMlkVpi3bVCF",
        "outputId": "85b2b42b-734f-466b-b5f5-cef8054fd10a"
      },
      "execution_count": null,
      "outputs": [
        {
          "output_type": "stream",
          "name": "stdout",
          "text": [
            "hello python!\n",
            "h\n",
            "!\n",
            "hello\n",
            "python!\n",
            "hello\n"
          ]
        }
      ]
    },
    {
      "cell_type": "code",
      "source": [
        "name =\"Alice\"\n",
        "age=25\n",
        "print(f\"{name}의 나이는 {age}세 입니다.\")\n",
        "print(\"{}의 나이는 {}세 입니다.\".format(name,age))\n",
        "print(\"%s의 나이는 %d세 입니다.\"%(name,age))"
      ],
      "metadata": {
        "colab": {
          "base_uri": "https://localhost:8080/"
        },
        "id": "QBYse6lNcPd-",
        "outputId": "d1d62a67-1656-4047-a2a4-e659b4d29dd5"
      },
      "execution_count": null,
      "outputs": [
        {
          "output_type": "stream",
          "name": "stdout",
          "text": [
            "Alice의 나이는 25세 입니다.\n",
            "Alice의 나이는 25세 입니다.\n",
            "Alice의 나이는 25세 입니다.\n"
          ]
        }
      ]
    },
    {
      "cell_type": "code",
      "source": [
        "s=\" Hello Python \"\n",
        "print(s)\n",
        "print(s.strip())\n",
        "print(s.upper())\n",
        "print(s.lower())"
      ],
      "metadata": {
        "colab": {
          "base_uri": "https://localhost:8080/"
        },
        "id": "R88EoEgSc8JN",
        "outputId": "3a3be778-e8f4-4bc3-c6d6-f081a5c64111"
      },
      "execution_count": null,
      "outputs": [
        {
          "output_type": "stream",
          "name": "stdout",
          "text": [
            " Hello Python \n",
            "Hello Python\n",
            " HELLO PYTHON \n",
            " hello python \n"
          ]
        }
      ]
    },
    {
      "cell_type": "markdown",
      "source": [
        "# 3.사용자입력"
      ],
      "metadata": {
        "id": "aR5u9RjIbI5W"
      }
    },
    {
      "cell_type": "code",
      "source": [
        "name =input(\"이름을 입력하세요 : \")\n",
        "age = input(\"나이를 입력하세요 : \")\n",
        "print(f\"{name}님 안녕하세요! 당신의 나이는 {age}세 입니다. \")"
      ],
      "metadata": {
        "colab": {
          "base_uri": "https://localhost:8080/"
        },
        "id": "CmFp_bm9daR2",
        "outputId": "abbcf57b-d799-4b84-f981-66b7916d352c"
      },
      "execution_count": null,
      "outputs": [
        {
          "output_type": "stream",
          "name": "stdout",
          "text": [
            "이름을 입력하세요 : alice\n",
            "나이를 입력하세요 : 20\n",
            "alice님 안녕하세요! 당신의 나이는 20입니다. \n"
          ]
        }
      ]
    },
    {
      "cell_type": "code",
      "source": [
        "x,y = input(\"두 숫자를 입력하세요 예(10,20) :\").split(\",\")\n",
        "print(f\"x: {x}, y: {y}\")"
      ],
      "metadata": {
        "colab": {
          "base_uri": "https://localhost:8080/"
        },
        "id": "GFMV9owzeRlF",
        "outputId": "9cd478eb-56bb-4b21-d5ed-9cb97c5a726b"
      },
      "execution_count": null,
      "outputs": [
        {
          "output_type": "stream",
          "name": "stdout",
          "text": [
            "두 숫자를 입력하세요 예(10,20) :5,9\n",
            "x: 5, y: 9\n"
          ]
        }
      ]
    },
    {
      "cell_type": "markdown",
      "source": [
        "# 4.연산자"
      ],
      "metadata": {
        "id": "MlDH4tUnfS40"
      }
    },
    {
      "cell_type": "code",
      "source": [
        "a= int(input(\"첫번째 숫자를 입력하세요 :\"))\n",
        "b= int(input(\"두번째 숫자를 입력하세요 :\"))\n",
        "\n",
        "print(\"덧셈: \",a+b)\n",
        "print(\"뺄셈: \",a-b)\n",
        "print(\"곱셈: \",a*b)\n",
        "print(\"나눗셈: \",a/b)\n",
        "print(\"몫: \",a//b)\n",
        "print(\"나머지: \",a%b)\n",
        "print(\"거듭제곱 \",a**b)"
      ],
      "metadata": {
        "colab": {
          "base_uri": "https://localhost:8080/"
        },
        "id": "CrxkqOyMfYxd",
        "outputId": "c2f9daa6-6a73-4556-ab59-1c68b2fc08f4"
      },
      "execution_count": null,
      "outputs": [
        {
          "output_type": "stream",
          "name": "stdout",
          "text": [
            "첫번째 숫자를 입력하세요 :8\n",
            "두번째 숫자를 입력하세요 :7\n",
            "덧셈:  15\n",
            "뺄셈:  1\n",
            "곱셈:  56\n",
            "나눗셈:  1.1428571428571428\n",
            "몫:  1\n",
            "나머지:  1\n",
            "거듭제곱  2097152\n"
          ]
        }
      ]
    },
    {
      "cell_type": "code",
      "source": [
        "age=int(input(\"나이를 입력하세요 : \"))\n",
        "\n",
        "is_teenager = age>=13  and age <=19\n",
        "\n",
        "print(\"청소년 여부: \",is_teenager)"
      ],
      "metadata": {
        "colab": {
          "base_uri": "https://localhost:8080/"
        },
        "id": "lv_7THaDgiot",
        "outputId": "35ab01c3-e41b-4f66-dd97-9ec67dd0cb76"
      },
      "execution_count": null,
      "outputs": [
        {
          "output_type": "stream",
          "name": "stdout",
          "text": [
            "나이를 입력하세요25\n",
            "청소년 여부:  False\n"
          ]
        }
      ]
    },
    {
      "cell_type": "code",
      "source": [
        "score = int(input(\"점수를 입력하세요 : \"))\n",
        "\n",
        "if score>=60:\n",
        "    print(\"합격입니다.\")\n",
        "else:\n",
        "    print(\"불합격입니다.\")"
      ],
      "metadata": {
        "colab": {
          "base_uri": "https://localhost:8080/"
        },
        "id": "ruArY202hTm0",
        "outputId": "f2698c7a-460f-4f15-d534-0bec7b9f0856"
      },
      "execution_count": null,
      "outputs": [
        {
          "output_type": "stream",
          "name": "stdout",
          "text": [
            "점수를 입력하세요 : 85\n",
            "합격입니다.\n"
          ]
        }
      ]
    },
    {
      "cell_type": "markdown",
      "source": [
        "# 5.실습문제"
      ],
      "metadata": {
        "id": "_UchiYeEiIuE"
      }
    },
    {
      "cell_type": "code",
      "source": [
        "# 사용자로부터 이름과 나이를 입력받아 다음 형식으로 출력하시오.\n",
        "name =input(\"이름을 입력하세요\")\n",
        "age=input(\"나이를 입력하세요\")\n",
        "\n",
        "print(f\"{name}은 {age}세 입니다.\")"
      ],
      "metadata": {
        "colab": {
          "base_uri": "https://localhost:8080/"
        },
        "id": "zpK8seHZiMSk",
        "outputId": "0246004f-1021-4eda-cee1-33dc5c62cfdc"
      },
      "execution_count": null,
      "outputs": [
        {
          "output_type": "stream",
          "name": "stdout",
          "text": [
            "이름을 입력하세요alice\n",
            "나이를 입력하세요20\n",
            "alice은 20세 입니다.\n"
          ]
        }
      ]
    },
    {
      "cell_type": "code",
      "source": [
        "# 두 개의 정수를 입력받아, 덧셈 결과를 출력하시오.\n",
        "num1=int(input(\"첫번째 숫자를 입력하세요 :\"))\n",
        "num2=int(input(\"두번째 숫자를 입력하세요 :\"))\n",
        "\n",
        "print(f\"{num1} + {num2} = {num1+num2}\")"
      ],
      "metadata": {
        "colab": {
          "base_uri": "https://localhost:8080/"
        },
        "id": "OoBNTQrhiQlT",
        "outputId": "a2c6dc82-95d4-4ff6-e284-a9a11674166d"
      },
      "execution_count": null,
      "outputs": [
        {
          "output_type": "stream",
          "name": "stdout",
          "text": [
            "첫번째 숫자를 입력하세요 :10\n",
            "두번째 숫자를 입력하세요 :5\n",
            "10 + 5 = 15\n"
          ]
        }
      ]
    },
    {
      "cell_type": "code",
      "source": [
        "# 사용자로부터 반지름을 입력받아 원의 넓이를 계산하시오.\n",
        "# (원의 넓이 = 3.14 × 반지름²)\n",
        "\n",
        "pi=3.14\n",
        "\n",
        "radius = int(input(\"반지름을 입력하세요 :\"))\n",
        "\n",
        "area =pi*radius*radius\n",
        "\n",
        "print(f\"원의 넓이: {area}\")\n",
        "print(f\"원의 넓이: {area:.2f}\")#소숫점 둘째자리까지"
      ],
      "metadata": {
        "colab": {
          "base_uri": "https://localhost:8080/"
        },
        "id": "e0DBguY1iWUj",
        "outputId": "49524e1a-d090-4c8e-f4ed-cf549a022046"
      },
      "execution_count": null,
      "outputs": [
        {
          "output_type": "stream",
          "name": "stdout",
          "text": [
            "반지름을 입력하세요 :6\n",
            "원의 넓이: 113.03999999999999\n",
            "원의 넓이: 113.04\n"
          ]
        }
      ]
    },
    {
      "cell_type": "code",
      "source": [
        "# 사용자로부터 정수를 입력받아 짝수인지 홀수인지 판별하시오.\n",
        "num = int(input(\"숫자를 입력하세요 :\"))\n",
        "if num%2==0:\n",
        "    print(\"짝수입니다.\")\n",
        "else:\n",
        "    print(\"홀수입니다.\")\n"
      ],
      "metadata": {
        "colab": {
          "base_uri": "https://localhost:8080/"
        },
        "id": "TJPd-_UXiYpT",
        "outputId": "dbbff6ad-777b-44e5-a388-660776582169"
      },
      "execution_count": null,
      "outputs": [
        {
          "output_type": "stream",
          "name": "stdout",
          "text": [
            "숫자를 입력하세요10\n",
            "짝수입니다.\n"
          ]
        }
      ]
    },
    {
      "cell_type": "code",
      "source": [
        "# 사용자로부터 키(cm)와 몸무게(kg)를 입력받아 BMI 지수를 계산하시오.\n",
        "\n",
        "# (BMI = 몸무게 / (키 × 키), 단 키는 m 단위로 변환)\n",
        "height = float(input(\"키를 입력하세요\"))\n",
        "weight = int(input(\"몸무게를 입력하세요\"))\n",
        "\n",
        "height_m = height/100\n",
        "\n",
        "bmi = weight/(height_m**2)\n",
        "\n",
        "print(f\"당신의 BMI는 {bmi:.2f}입니다.\")"
      ],
      "metadata": {
        "colab": {
          "base_uri": "https://localhost:8080/"
        },
        "id": "vjTv3nuCibWD",
        "outputId": "58264f64-108c-4dab-e11a-f3ae9136a340"
      },
      "execution_count": null,
      "outputs": [
        {
          "output_type": "stream",
          "name": "stdout",
          "text": [
            "키를 입력하세요175\n",
            "몸무게를 입력하세요60\n",
            "당신의 BMI는 19.59입니다.\n"
          ]
        }
      ]
    },
    {
      "cell_type": "markdown",
      "source": [
        "# 6.조건문"
      ],
      "metadata": {
        "id": "za4c6fKmrL5x"
      }
    },
    {
      "cell_type": "code",
      "source": [
        "x=int(input(\"숫자를 입력하세요\"))\n",
        "\n",
        "if x>10:\n",
        "    print(\"x는 10보다 큽니다.\")\n",
        "elif x>5:\n",
        "    print(\"x는 5보다 큽니다.\")\n",
        "else:\n",
        "    print(\"x는 5보다 작거나 같습니다.\")\n"
      ],
      "metadata": {
        "colab": {
          "base_uri": "https://localhost:8080/"
        },
        "id": "0HAKyEHErO8w",
        "outputId": "7fc9c635-9ad4-4b60-b0f3-0323dcbea4bf"
      },
      "execution_count": null,
      "outputs": [
        {
          "output_type": "stream",
          "name": "stdout",
          "text": [
            "숫자를 입력하세요4\n",
            "x는 5보다 작거나 같습니다.\n"
          ]
        }
      ]
    },
    {
      "cell_type": "code",
      "source": [
        "age= int(input(\"나이를 입력하세요\"))\n",
        "student=input(\"학생이면 '학생', 아니면 '기타'라고 적어주세요.\")\n",
        "\n",
        "\n",
        "if age>=18:\n",
        "    if student==\"학생\":\n",
        "        print(\"성인 학생입니다.\")\n",
        "    else:\n",
        "        print(\"성인이지만, 학생은 아닙니다.\")\n",
        "\n"
      ],
      "metadata": {
        "colab": {
          "base_uri": "https://localhost:8080/"
        },
        "id": "iKNNBPnrr8-Y",
        "outputId": "a0868c51-815f-4d7d-9d1e-04ca627694a5"
      },
      "execution_count": null,
      "outputs": [
        {
          "name": "stdout",
          "output_type": "stream",
          "text": [
            "나이를 입력하세요17\n",
            "학생이면 '학생', 아니면 '기타'라고 적어주세요.학생\n"
          ]
        }
      ]
    },
    {
      "cell_type": "code",
      "source": [
        "x=3\n",
        "\n",
        "result = \"x는 5보다 큽니다.\" if x>5 else \"x는 5보다 작습니다.\"\n",
        "print(result)"
      ],
      "metadata": {
        "colab": {
          "base_uri": "https://localhost:8080/"
        },
        "id": "GVPU2DTWtRQw",
        "outputId": "760926e8-1efb-448a-eceb-89230a392ced"
      },
      "execution_count": null,
      "outputs": [
        {
          "output_type": "stream",
          "name": "stdout",
          "text": [
            "x는 5보다 작습니다.\n"
          ]
        }
      ]
    },
    {
      "cell_type": "code",
      "source": [
        "x=12\n",
        "\n",
        "if x>5 and x<10:\n",
        "    print(\"x는 5보다 크고, 10보다 작습니다.\")\n",
        "\n",
        "if x<5 or x>10:\n",
        "    print(\"x는 5보다  작거나, 10보다 큽니다.\")\n",
        "else:\n",
        "    print(\"x는 5이상, 10이하입니다.\")\n"
      ],
      "metadata": {
        "colab": {
          "base_uri": "https://localhost:8080/"
        },
        "id": "XfGqA2Hztrl4",
        "outputId": "fe099af0-402f-4d4f-f493-a77aa0bd2a82"
      },
      "execution_count": null,
      "outputs": [
        {
          "output_type": "stream",
          "name": "stdout",
          "text": [
            "x는 5보다  작거나, 10보다 큽니다.\n"
          ]
        }
      ]
    },
    {
      "cell_type": "code",
      "source": [
        "x=10\n",
        "y=20\n",
        "\n",
        "if x==y:\n",
        "    print(\"x와 y는 같습니다.\")\n",
        "elif x!=y:\n",
        "    print(\"x와 y는 같지 않습니다.\")\n"
      ],
      "metadata": {
        "colab": {
          "base_uri": "https://localhost:8080/"
        },
        "id": "z70DYEL4ubpg",
        "outputId": "defd1f7a-a723-4e6c-e7ea-d162c573f3ec"
      },
      "execution_count": null,
      "outputs": [
        {
          "output_type": "stream",
          "name": "stdout",
          "text": [
            "x와 y는 같지 않습니다.\n"
          ]
        }
      ]
    },
    {
      "cell_type": "code",
      "source": [
        "my_list =[1,2,3,4,5]\n",
        "\n",
        "if 3 in my_list:\n",
        "    print(\"리스트에 3이 포함되 있습니다.\")\n",
        "if 6 not in my_list:\n",
        "    print(\"리스트에 6이 포함되 있지 않습니다.\")"
      ],
      "metadata": {
        "colab": {
          "base_uri": "https://localhost:8080/"
        },
        "id": "wxQhuAPauyQA",
        "outputId": "f819681f-d698-465b-836b-ec433399ff4d"
      },
      "execution_count": null,
      "outputs": [
        {
          "output_type": "stream",
          "name": "stdout",
          "text": [
            "리스트에 3이 포함되 있습니다.\n",
            "리스트에 6이 포함되 있지 않습니다.\n"
          ]
        }
      ]
    },
    {
      "cell_type": "markdown",
      "source": [
        "# 7.실습문제"
      ],
      "metadata": {
        "id": "1Ti-3l7Xvob5"
      }
    },
    {
      "cell_type": "code",
      "source": [
        "# 사용자로부터 정수를 입력받아 양수, 음수, 0 중 어떤 값인지 출력하세요.\n",
        "x=int(input(\"정수를 입력하세요 : \"))\n",
        "\n",
        "if x>0:\n",
        "    print(\"양수입니다.\")\n",
        "elif x<0:\n",
        "    print(\"음수입니다.\")\n",
        "else:\n",
        "    print(\"0입니다\")"
      ],
      "metadata": {
        "colab": {
          "base_uri": "https://localhost:8080/"
        },
        "id": "E-72KCeItoNL",
        "outputId": "2728e4cb-fb90-467e-dab1-f05373f0b7ad"
      },
      "execution_count": null,
      "outputs": [
        {
          "output_type": "stream",
          "name": "stdout",
          "text": [
            "정수를 입력하세요 : 0\n",
            "0입니다\n"
          ]
        }
      ]
    },
    {
      "cell_type": "code",
      "source": [
        "# 사용자로부터 정수를 입력받아 짝수인지 홀수인지 출력하세요."
      ],
      "metadata": {
        "id": "T9y-Fquftq68"
      },
      "execution_count": null,
      "outputs": []
    },
    {
      "cell_type": "code",
      "source": [
        "x=int(input(\"정수를 입력하세요 : \"))\n",
        "\n",
        "if x%2==0:\n",
        "    print(\"짝수입니다.\")\n",
        "else:\n",
        "    print(\"홀수입니다.\")"
      ],
      "metadata": {
        "colab": {
          "base_uri": "https://localhost:8080/"
        },
        "id": "vxooy-Av5bvo",
        "outputId": "fd745cc9-fb03-489a-8307-df74ef2b2f27"
      },
      "execution_count": null,
      "outputs": [
        {
          "output_type": "stream",
          "name": "stdout",
          "text": [
            "정수를 입력하세요 : 8\n",
            "짝수입니다.\n"
          ]
        }
      ]
    },
    {
      "cell_type": "code",
      "source": [
        "# 두 개의 정수를 입력받아 더 큰 값을 출력하세요.\n",
        "x=int(input(\"첫번째 수를 입력하세요 : \"))\n",
        "y=int(input(\"두번째 수를 입력하세요 : \"))\n",
        "\n",
        "\n",
        "if x>y:\n",
        "    print(f\"더 큰수는 {x}입니다.\")\n",
        "else:\n",
        "    print(f\"더 큰수는 {y}입니다.\")\n"
      ],
      "metadata": {
        "colab": {
          "base_uri": "https://localhost:8080/"
        },
        "id": "Ww7ACD0BttPM",
        "outputId": "2d4c716e-98a1-4b87-ca8e-19baba7b24a5"
      },
      "execution_count": null,
      "outputs": [
        {
          "output_type": "stream",
          "name": "stdout",
          "text": [
            "첫번째 수를 입력하세요 : 9\n",
            "두번째 수를 입력하세요 : 7\n",
            "더 큰수는 9입니다.\n"
          ]
        }
      ]
    },
    {
      "cell_type": "code",
      "source": [
        "# 점수를 입력받아 아래 기준에 따라 학점을 출력하세요.\n",
        "score = int(input(\"점수를 입력하세요 : \"))\n",
        "\n",
        "if score >=90:\n",
        "    print(\"A\")\n",
        "elif score>=80:\n",
        "    print(\"B\")\n",
        "elif score>=70:\n",
        "    print(\"C\")\n",
        "else:\n",
        "    print(\"D\")"
      ],
      "metadata": {
        "colab": {
          "base_uri": "https://localhost:8080/"
        },
        "id": "SQ5ky68jtwDU",
        "outputId": "45de2ad8-84df-4a54-ea08-b8dbdec85ab6"
      },
      "execution_count": null,
      "outputs": [
        {
          "output_type": "stream",
          "name": "stdout",
          "text": [
            "점수를 입력하세요 : 89\n",
            "B\n"
          ]
        }
      ]
    },
    {
      "cell_type": "code",
      "source": [
        "# 숫자 리스트 [3, 7, 9, 12] 안에 입력받은 숫자가 있는지 확인하세요.\n",
        "\n",
        "my_list =[3, 7, 9, 12]\n",
        "x=int(input(\"숫자를 입력하세요 : \"))\n",
        "\n",
        "if x in my_list:\n",
        "    print(f\"{x}는 리스트에 있습니다.\")\n",
        "\n",
        "else:\n",
        "    print(f\"{x}는 리스트에 없습니다.\")\n"
      ],
      "metadata": {
        "colab": {
          "base_uri": "https://localhost:8080/"
        },
        "id": "xnz78KT-ty6r",
        "outputId": "377e703b-400b-437c-d194-dd99db9cffaf"
      },
      "execution_count": null,
      "outputs": [
        {
          "output_type": "stream",
          "name": "stdout",
          "text": [
            "숫자를 입력하세요 : 11\n",
            "11는 리스트에 없습니다.\n"
          ]
        }
      ]
    },
    {
      "cell_type": "code",
      "source": [
        "# 두 개의 정수를 입력받아 같으면 \"같습니다\", 다르면 \"다릅니다\"를 출력하세요.\n",
        "x=int(input(\"첫번째 숫자 입력\"))\n",
        "y=int(input(\"두번째 숫자 입력\"))\n",
        "\n",
        "if x==y:\n",
        "    print(f\"{x}와 {y}는 같습니다.\")\n",
        "else:\n",
        "    print(f\"{x}와 {y}는 같지 않습니다.\")"
      ],
      "metadata": {
        "colab": {
          "base_uri": "https://localhost:8080/"
        },
        "id": "6B0kBJBbt21d",
        "outputId": "8803d3c0-ef11-47b8-cf3c-c28ad365b1d5"
      },
      "execution_count": null,
      "outputs": [
        {
          "output_type": "stream",
          "name": "stdout",
          "text": [
            "첫번째 숫자 입력9\n",
            "두번째 숫자 입력8\n",
            "9와 8는 같지 않습니다.\n"
          ]
        }
      ]
    },
    {
      "cell_type": "code",
      "source": [
        "# 사용자로부터 문자열을 입력받아 길이가 5자 이상이면 “길어요”, 아니면 “짧아요”를 출력하세요.\n",
        "word = input(\"단어를 입력하세요 : \")\n",
        "\n",
        "if len(word)>=5:\n",
        "    print(\"길어요\")\n",
        "else:\n",
        "    print(\"짧아요\")"
      ],
      "metadata": {
        "colab": {
          "base_uri": "https://localhost:8080/"
        },
        "id": "RdGb_d2Ft5JL",
        "outputId": "f5d22652-0421-4a1a-b98b-5ee7cbc1a7b1"
      },
      "execution_count": null,
      "outputs": [
        {
          "output_type": "stream",
          "name": "stdout",
          "text": [
            "단어를 입력하세요 : school\n",
            "길어요\n"
          ]
        }
      ]
    },
    {
      "cell_type": "code",
      "source": [
        "# 정수를 입력받아 1 이상 100 이하인지 확인하고, 범위 안에 있으면 \"정상\", 아니면 \"범위 초과\"를 출력하세요.\n",
        "x=int(input(\"숫자를 입력하세요 : \"))\n",
        "\n",
        "if 1<=x & x<=100:\n",
        "    print(\"범위안\")\n",
        "else:\n",
        "    print(\"범위밖\")"
      ],
      "metadata": {
        "colab": {
          "base_uri": "https://localhost:8080/"
        },
        "id": "rLM7khk4t7gr",
        "outputId": "d38f163d-ff0a-4810-80b7-a802566c87c0"
      },
      "execution_count": null,
      "outputs": [
        {
          "output_type": "stream",
          "name": "stdout",
          "text": [
            "숫자를 입력하세요 : 80\n",
            "범위안\n"
          ]
        }
      ]
    },
    {
      "cell_type": "code",
      "source": [
        "# 아이디는 \"admin\", 비밀번호는 \"1234\"일 때만 \"로그인 성공\"을 출력하세요.\n",
        "\n",
        "id=str(input(\"아이디를 입력하세요 : \"))\n",
        "pw=int(input(\"비밀번호를 입력하세요 : \"))\n",
        "\n",
        "if id==\"admin\" and pw ==1234:\n",
        "    print(\"로그인 성공\")\n",
        "else:\n",
        "    print(\"로그인 실패\")\n"
      ],
      "metadata": {
        "colab": {
          "base_uri": "https://localhost:8080/"
        },
        "id": "RlzeVM5ft-Rz",
        "outputId": "9d8e1d6f-bd8e-49aa-bcf0-85b2aaf992b4"
      },
      "execution_count": null,
      "outputs": [
        {
          "output_type": "stream",
          "name": "stdout",
          "text": [
            "아이디를 입력하세요 : admin\n",
            "비밀번호를 입력하세요 : 1234\n",
            "로그인 성공\n"
          ]
        }
      ]
    },
    {
      "cell_type": "code",
      "source": [
        "# 정수를 입력받아 3의 배수인지 아닌지를 판별하세요.\n",
        "num=int(input(\"정수를 입력하세요 : \"))\n",
        "\n",
        "\n",
        "if num %3==0:\n",
        "    print(\"3의 배수입니다.\")\n",
        "else:\n",
        "\n",
        "    print(\"3의 배수가 아닙니다.\")"
      ],
      "metadata": {
        "colab": {
          "base_uri": "https://localhost:8080/"
        },
        "id": "bsePUBBTuAKc",
        "outputId": "dd4d3c94-4c88-4337-af8e-7ddeca2ce322"
      },
      "execution_count": null,
      "outputs": [
        {
          "output_type": "stream",
          "name": "stdout",
          "text": [
            "정수를 입력하세요 : 12\n",
            "3의 배수입니다.\n"
          ]
        }
      ]
    },
    {
      "cell_type": "markdown",
      "source": [
        "# 8-1. 배열(리스트)"
      ],
      "metadata": {
        "id": "d3E0a1Ki9SB5"
      }
    },
    {
      "cell_type": "code",
      "source": [
        "nums =[10,20,30,40,50]\n",
        "\n",
        "\n",
        "print(nums[0])\n",
        "print(nums[-1])\n",
        "print(nums[1:3])"
      ],
      "metadata": {
        "colab": {
          "base_uri": "https://localhost:8080/"
        },
        "id": "kVL96nbE9qzx",
        "outputId": "938603cc-7392-47e4-c11e-44dbb1812e9d"
      },
      "execution_count": null,
      "outputs": [
        {
          "output_type": "stream",
          "name": "stdout",
          "text": [
            "10\n",
            "50\n",
            "[20, 30]\n"
          ]
        }
      ]
    },
    {
      "cell_type": "code",
      "source": [
        "animals = [\"개\",\"고양이\",\"토끼\"]\n",
        "\n",
        "for animal in animals:\n",
        "    print(animal)"
      ],
      "metadata": {
        "colab": {
          "base_uri": "https://localhost:8080/"
        },
        "id": "y80Ja_eR956n",
        "outputId": "9f196b00-8de6-4633-fc58-3a5e2b81478a"
      },
      "execution_count": null,
      "outputs": [
        {
          "output_type": "stream",
          "name": "stdout",
          "text": [
            "개\n",
            "고양이\n",
            "토끼\n"
          ]
        }
      ]
    },
    {
      "cell_type": "code",
      "source": [
        "# 과일 리스트\n",
        "fruits =[\"사과\",\"바나나\",\"딸기\"]\n",
        "\n",
        "print(\"과일목록\")\n",
        "\n",
        "for f in fruits:\n",
        "    print(f\" - {f}\")"
      ],
      "metadata": {
        "colab": {
          "base_uri": "https://localhost:8080/"
        },
        "id": "56wsbl8v-Py4",
        "outputId": "78915e30-85c3-41b8-adf0-9bdb22fa4e0b"
      },
      "execution_count": null,
      "outputs": [
        {
          "output_type": "stream",
          "name": "stdout",
          "text": [
            "과일목록\n",
            " - 사과\n",
            " - 바나나\n",
            " - 딸기\n"
          ]
        }
      ]
    },
    {
      "cell_type": "code",
      "source": [
        "names =[]\n",
        "\n",
        "for i in range(3):\n",
        "    name =input(f\"{i+1}번 이름을 입력하세요 : \")\n",
        "\n",
        "    names.append(name)\n",
        "\n",
        "print(\"입력한 이름 리스트 : \",names)\n",
        "\n"
      ],
      "metadata": {
        "colab": {
          "base_uri": "https://localhost:8080/"
        },
        "id": "sk1aWT2V-lI7",
        "outputId": "27fdd1e9-80c6-421a-a999-56299ebaa496"
      },
      "execution_count": null,
      "outputs": [
        {
          "output_type": "stream",
          "name": "stdout",
          "text": [
            "1번 이름을 입력하세요 : 채린\n",
            "2번 이름을 입력하세요 : 소연\n",
            "3번 이름을 입력하세요 : 민주\n",
            "입력한 이름 리스트 :  ['채린', '소연', '민주']\n"
          ]
        }
      ]
    },
    {
      "cell_type": "markdown",
      "source": [
        "# 8-2 배열의 원소 조회"
      ],
      "metadata": {
        "id": "NxgnprDw_uux"
      }
    },
    {
      "cell_type": "code",
      "source": [
        "#숫자 5개로 이루어진 리스트를 생성하고, 모든 요소의 합과 평균을 출력하시오.\n",
        "num_list=[60,70,75,95,100]\n",
        "\n",
        "sum=0\n",
        "\n",
        "for num in num_list:\n",
        "    sum+=num\n",
        "\n",
        "avg = int(sum/len(num_list))\n",
        "print(f\"리스트 합: {sum}\")\n",
        "print(f\"리스트 평균: {avg}\")\n",
        "\n"
      ],
      "metadata": {
        "colab": {
          "base_uri": "https://localhost:8080/"
        },
        "id": "cePaTAJc_xm4",
        "outputId": "2b544ec1-1b6e-4e34-c667-67fa3f6adf66"
      },
      "execution_count": null,
      "outputs": [
        {
          "output_type": "stream",
          "name": "stdout",
          "text": [
            "리스트 합: 400\n",
            "리스트 평균: 80\n"
          ]
        }
      ]
    },
    {
      "cell_type": "code",
      "source": [
        "# 리스트에 저장된 점수 중 60점 이상인 한생의 수를 출력하시오.\n",
        "score=[50,55,75,95,100]\n",
        "\n",
        "count=0\n",
        "for i in score:\n",
        "    if i>=60:\n",
        "        print(i)\n",
        "        count+=1\n",
        "\n",
        "print(f\"60점 이상인 학생의 수: {count}명\")"
      ],
      "metadata": {
        "colab": {
          "base_uri": "https://localhost:8080/"
        },
        "id": "vrt9Czhf_2So",
        "outputId": "c1523bdd-f1fd-4721-b9e6-38c8dedbb5da"
      },
      "execution_count": null,
      "outputs": [
        {
          "output_type": "stream",
          "name": "stdout",
          "text": [
            "75\n",
            "95\n",
            "100\n",
            "60점 이상인 학생의 수: 3명\n"
          ]
        }
      ]
    },
    {
      "cell_type": "code",
      "source": [
        "# 3명의 이름을 입력받아 리스트에 저장한 후 출력하시오.\n",
        "\n",
        "names =[]\n",
        "\n",
        "for i in range(3):\n",
        "    name =input(f\"{i+1}번 이름을 입력하세요 : \")\n",
        "\n",
        "    names.append(name)\n",
        "\n",
        "print(\"입력한 이름 리스트 : \",names)"
      ],
      "metadata": {
        "id": "xXhbn9Vx_65o",
        "colab": {
          "base_uri": "https://localhost:8080/"
        },
        "outputId": "0bd2a656-8ebd-43e4-cd73-d81636b8d7b1"
      },
      "execution_count": null,
      "outputs": [
        {
          "output_type": "stream",
          "name": "stdout",
          "text": [
            "1번 이름을 입력하세요 : 은비\n",
            "2번 이름을 입력하세요 : 소연\n",
            "3번 이름을 입력하세요 : 재용\n",
            "입력한 이름 리스트 :  ['은비', '소연', '재용']\n"
          ]
        }
      ]
    },
    {
      "cell_type": "code",
      "source": [
        "# 사용자로부터 과일 이름 3개를 입력받아 리스트로 저장하고, 그 중 첫 번째 과일만 출력하시오.\n",
        "fruits =[]\n",
        "\n",
        "for i in range(3):\n",
        "    fruit =input(f\"{i+1}번 과일 이름을 입력하세요 : \")\n",
        "\n",
        "    fruits.append(fruit)\n",
        "\n",
        "\n",
        "print(fruits[0])\n"
      ],
      "metadata": {
        "id": "IQW1v7wG_-Vx",
        "colab": {
          "base_uri": "https://localhost:8080/",
          "height": 402
        },
        "outputId": "03a494bf-49f8-4186-b6be-6c012dfe84c9"
      },
      "execution_count": null,
      "outputs": [
        {
          "output_type": "error",
          "ename": "KeyboardInterrupt",
          "evalue": "Interrupted by user",
          "traceback": [
            "\u001b[0;31m---------------------------------------------------------------------------\u001b[0m",
            "\u001b[0;31mKeyboardInterrupt\u001b[0m                         Traceback (most recent call last)",
            "\u001b[0;32m<ipython-input-2-6123f66dedca>\u001b[0m in \u001b[0;36m<cell line: 0>\u001b[0;34m()\u001b[0m\n\u001b[1;32m      3\u001b[0m \u001b[0;34m\u001b[0m\u001b[0m\n\u001b[1;32m      4\u001b[0m \u001b[0;32mfor\u001b[0m \u001b[0mi\u001b[0m \u001b[0;32min\u001b[0m \u001b[0mrange\u001b[0m\u001b[0;34m(\u001b[0m\u001b[0;36m3\u001b[0m\u001b[0;34m)\u001b[0m\u001b[0;34m:\u001b[0m\u001b[0;34m\u001b[0m\u001b[0;34m\u001b[0m\u001b[0m\n\u001b[0;32m----> 5\u001b[0;31m     \u001b[0mfruit\u001b[0m \u001b[0;34m=\u001b[0m\u001b[0minput\u001b[0m\u001b[0;34m(\u001b[0m\u001b[0;34mf\"{i+1}번 과일 이름을 입력하세요 : \"\u001b[0m\u001b[0;34m)\u001b[0m\u001b[0;34m\u001b[0m\u001b[0;34m\u001b[0m\u001b[0m\n\u001b[0m\u001b[1;32m      6\u001b[0m \u001b[0;34m\u001b[0m\u001b[0m\n\u001b[1;32m      7\u001b[0m     \u001b[0mfruits\u001b[0m\u001b[0;34m.\u001b[0m\u001b[0mappend\u001b[0m\u001b[0;34m(\u001b[0m\u001b[0mfruit\u001b[0m\u001b[0;34m)\u001b[0m\u001b[0;34m\u001b[0m\u001b[0;34m\u001b[0m\u001b[0m\n",
            "\u001b[0;32m/usr/local/lib/python3.11/dist-packages/ipykernel/kernelbase.py\u001b[0m in \u001b[0;36mraw_input\u001b[0;34m(self, prompt)\u001b[0m\n\u001b[1;32m   1175\u001b[0m                 \u001b[0;34m\"raw_input was called, but this frontend does not support input requests.\"\u001b[0m\u001b[0;34m\u001b[0m\u001b[0;34m\u001b[0m\u001b[0m\n\u001b[1;32m   1176\u001b[0m             )\n\u001b[0;32m-> 1177\u001b[0;31m         return self._input_request(\n\u001b[0m\u001b[1;32m   1178\u001b[0m             \u001b[0mstr\u001b[0m\u001b[0;34m(\u001b[0m\u001b[0mprompt\u001b[0m\u001b[0;34m)\u001b[0m\u001b[0;34m,\u001b[0m\u001b[0;34m\u001b[0m\u001b[0;34m\u001b[0m\u001b[0m\n\u001b[1;32m   1179\u001b[0m             \u001b[0mself\u001b[0m\u001b[0;34m.\u001b[0m\u001b[0m_parent_ident\u001b[0m\u001b[0;34m[\u001b[0m\u001b[0;34m\"shell\"\u001b[0m\u001b[0;34m]\u001b[0m\u001b[0;34m,\u001b[0m\u001b[0;34m\u001b[0m\u001b[0;34m\u001b[0m\u001b[0m\n",
            "\u001b[0;32m/usr/local/lib/python3.11/dist-packages/ipykernel/kernelbase.py\u001b[0m in \u001b[0;36m_input_request\u001b[0;34m(self, prompt, ident, parent, password)\u001b[0m\n\u001b[1;32m   1217\u001b[0m             \u001b[0;32mexcept\u001b[0m \u001b[0mKeyboardInterrupt\u001b[0m\u001b[0;34m:\u001b[0m\u001b[0;34m\u001b[0m\u001b[0;34m\u001b[0m\u001b[0m\n\u001b[1;32m   1218\u001b[0m                 \u001b[0;31m# re-raise KeyboardInterrupt, to truncate traceback\u001b[0m\u001b[0;34m\u001b[0m\u001b[0;34m\u001b[0m\u001b[0m\n\u001b[0;32m-> 1219\u001b[0;31m                 \u001b[0;32mraise\u001b[0m \u001b[0mKeyboardInterrupt\u001b[0m\u001b[0;34m(\u001b[0m\u001b[0;34m\"Interrupted by user\"\u001b[0m\u001b[0;34m)\u001b[0m \u001b[0;32mfrom\u001b[0m \u001b[0;32mNone\u001b[0m\u001b[0;34m\u001b[0m\u001b[0;34m\u001b[0m\u001b[0m\n\u001b[0m\u001b[1;32m   1220\u001b[0m             \u001b[0;32mexcept\u001b[0m \u001b[0mException\u001b[0m\u001b[0;34m:\u001b[0m\u001b[0;34m\u001b[0m\u001b[0;34m\u001b[0m\u001b[0m\n\u001b[1;32m   1221\u001b[0m                 \u001b[0mself\u001b[0m\u001b[0;34m.\u001b[0m\u001b[0mlog\u001b[0m\u001b[0;34m.\u001b[0m\u001b[0mwarning\u001b[0m\u001b[0;34m(\u001b[0m\u001b[0;34m\"Invalid Message:\"\u001b[0m\u001b[0;34m,\u001b[0m \u001b[0mexc_info\u001b[0m\u001b[0;34m=\u001b[0m\u001b[0;32mTrue\u001b[0m\u001b[0;34m)\u001b[0m\u001b[0;34m\u001b[0m\u001b[0;34m\u001b[0m\u001b[0m\n",
            "\u001b[0;31mKeyboardInterrupt\u001b[0m: Interrupted by user"
          ]
        }
      ]
    },
    {
      "cell_type": "code",
      "source": [
        "# 리스트 [1, 2, 3, 4, 5]에서 짝수만 새로운 리스트에 담고 출력하시오.\n",
        "\n",
        "num_list =[1,2,3,4,5]\n",
        "\n",
        "new_list=[]\n",
        "\n",
        "for num in num_list:\n",
        "    if  num%2==0:\n",
        "        new_list.append(num)\n",
        "\n",
        "print(new_list)\n",
        "\n"
      ],
      "metadata": {
        "colab": {
          "base_uri": "https://localhost:8080/"
        },
        "id": "WkvylOhNAApI",
        "outputId": "f95075ee-add4-4b3a-fc27-7bab4a1ee7b6"
      },
      "execution_count": null,
      "outputs": [
        {
          "output_type": "stream",
          "name": "stdout",
          "text": [
            "[2, 4]\n"
          ]
        }
      ]
    },
    {
      "cell_type": "markdown",
      "source": [
        "# 8-3 배열반복문"
      ],
      "metadata": {
        "id": "xF289vqhCypG"
      }
    },
    {
      "cell_type": "code",
      "source": [
        "# 1부터 10까지 숫자를 한 줄씩 출력하시오.\n",
        "\n",
        "nums=[]\n",
        "\n",
        "for num in range(10):\n",
        "    num+=1\n",
        "\n",
        "    nums.append(num)\n",
        "\n",
        "\n",
        "\n",
        "print(nums)\n",
        "\n",
        "for i in range(1,11,2):\n",
        "    print(i)"
      ],
      "metadata": {
        "id": "05Zs6p9XC4Ak",
        "colab": {
          "base_uri": "https://localhost:8080/"
        },
        "outputId": "5ee1bd82-4941-4c77-b932-ed7012830f6e"
      },
      "execution_count": null,
      "outputs": [
        {
          "output_type": "stream",
          "name": "stdout",
          "text": [
            "[1, 2, 3, 4, 5, 6, 7, 8, 9, 10]\n",
            "1\n",
            "3\n",
            "5\n",
            "7\n",
            "9\n"
          ]
        }
      ]
    },
    {
      "cell_type": "code",
      "source": [
        "# 사용자로부터 정수 하나를 입력받아, 그 수만큼 \"안녕하세요\"를 출력하시오.\n",
        "\n",
        "str1=\"안녕하세요\"\n",
        "\n",
        "num = int(input(\"숫자를 입력하세요: \"))\n",
        "\n",
        "for i in range(num):\n",
        "    print(str1)"
      ],
      "metadata": {
        "colab": {
          "base_uri": "https://localhost:8080/"
        },
        "id": "Jss53dBjErP-",
        "outputId": "4802265d-8d80-4356-a62a-97687b6ccddd"
      },
      "execution_count": null,
      "outputs": [
        {
          "output_type": "stream",
          "name": "stdout",
          "text": [
            "숫자를 입력하세요: 6\n",
            "안녕하세요\n",
            "안녕하세요\n",
            "안녕하세요\n",
            "안녕하세요\n",
            "안녕하세요\n",
            "안녕하세요\n"
          ]
        }
      ]
    },
    {
      "cell_type": "code",
      "source": [
        "# 1부터 100까지의 정수 중 짝수만 출력하시오.\n",
        "result=\"\"\n",
        "\n",
        "for i in range(1,101,2):\n",
        "    result+=str(i+1)+\",\"\n",
        "\n",
        "print(result.rstrip(\",\"))"
      ],
      "metadata": {
        "colab": {
          "base_uri": "https://localhost:8080/"
        },
        "id": "TJYRX2fQFp0G",
        "outputId": "160df4a9-1b55-4581-908b-5200a16827e9"
      },
      "execution_count": null,
      "outputs": [
        {
          "output_type": "stream",
          "name": "stdout",
          "text": [
            "2,4,6,8,10,12,14,16,18,20,22,24,26,28,30,32,34,36,38,40,42,44,46,48,50,52,54,56,58,60,62,64,66,68,70,72,74,76,78,80,82,84,86,88,90,92,94,96,98,100\n"
          ]
        }
      ]
    },
    {
      "cell_type": "code",
      "source": [
        "# 사용자로부터 숫자 5개를 입력받아 리스트에 저장하고, 반복문을 사용하여 모두 출력하시오.\n",
        "nums=[]\n",
        "\n",
        "for num in range(5):\n",
        "    num=int(input(f\"{num+1}번 숫자를 입력하세요 : \"))\n",
        "\n",
        "    nums.append(num)\n",
        "\n",
        "print(nums)"
      ],
      "metadata": {
        "colab": {
          "base_uri": "https://localhost:8080/"
        },
        "id": "9ZXY4FlFHUzm",
        "outputId": "ce855243-7806-4412-f865-ecb7d0a10a37"
      },
      "execution_count": null,
      "outputs": [
        {
          "output_type": "stream",
          "name": "stdout",
          "text": [
            "1번 숫자를 입력하세요1\n",
            "2번 숫자를 입력하세요5\n",
            "3번 숫자를 입력하세요8\n",
            "4번 숫자를 입력하세요9\n",
            "5번 숫자를 입력하세요10\n",
            "[1, 5, 8, 9, 10]\n"
          ]
        }
      ]
    },
    {
      "cell_type": "code",
      "source": [
        "# 1부터 10까지의 숫자를 더한 총합을 출력하시오.\n",
        "sum=0\n",
        "\n",
        "for i in range(11):\n",
        "    sum+=i\n",
        "\n",
        "print(f\"총 합은: {sum} \")"
      ],
      "metadata": {
        "colab": {
          "base_uri": "https://localhost:8080/"
        },
        "id": "ClUeJ_ojHVQm",
        "outputId": "f0143918-393c-4705-daf8-1fa292b6cc6f"
      },
      "execution_count": null,
      "outputs": [
        {
          "output_type": "stream",
          "name": "stdout",
          "text": [
            "총 합은: 55 \n"
          ]
        }
      ]
    },
    {
      "cell_type": "markdown",
      "source": [
        "# 9-1 함수의 정의"
      ],
      "metadata": {
        "id": "2yhQrl-cLlTe"
      }
    },
    {
      "cell_type": "code",
      "source": [
        "def greet(name):\n",
        "    return f\"hello {name}\"\n",
        "\n",
        "message= greet(\"Alice\")\n",
        "\n",
        "print(message)"
      ],
      "metadata": {
        "colab": {
          "base_uri": "https://localhost:8080/"
        },
        "id": "MHOTpczpLq4d",
        "outputId": "ff0a4041-9893-420f-94a7-99a5c91b7dc2"
      },
      "execution_count": null,
      "outputs": [
        {
          "output_type": "stream",
          "name": "stdout",
          "text": [
            "hello Alice\n"
          ]
        }
      ]
    },
    {
      "cell_type": "code",
      "source": [
        "def add(a,b):\n",
        "    return a+b\n",
        "\n",
        "result = add(5,9)\n",
        "\n",
        "print(result)\n",
        "\n",
        "\n",
        "def multy(x,y,z):\n",
        "    return x*y*z\n",
        "\n",
        "result2=multy(3,2,1)\n",
        "\n",
        "print(result2)\n",
        "\n",
        "\n"
      ],
      "metadata": {
        "colab": {
          "base_uri": "https://localhost:8080/"
        },
        "id": "s-ZC3xgQML0d",
        "outputId": "aa9a3511-74bd-406f-b42e-81e2d42cd21f"
      },
      "execution_count": null,
      "outputs": [
        {
          "output_type": "stream",
          "name": "stdout",
          "text": [
            "14\n",
            "6\n"
          ]
        }
      ]
    },
    {
      "cell_type": "markdown",
      "source": [
        "# 9-2 함수의 유형"
      ],
      "metadata": {
        "id": "LcDYURuyNBeI"
      }
    },
    {
      "cell_type": "code",
      "source": [
        "# 매개변수,반환값이 없는 함수\n",
        "def say_hello():\n",
        "    print(\"hello\")\n",
        "\n",
        "say_hello()"
      ],
      "metadata": {
        "colab": {
          "base_uri": "https://localhost:8080/"
        },
        "id": "TqF8P2t7M_q-",
        "outputId": "de8b7674-a392-4474-afcf-ac128d7ce212"
      },
      "execution_count": null,
      "outputs": [
        {
          "output_type": "stream",
          "name": "stdout",
          "text": [
            "hello\n"
          ]
        }
      ]
    },
    {
      "cell_type": "code",
      "source": [
        "def greet(name=\"guest\"):\n",
        "    print(f\"hello {name}님!\")\n",
        "\n",
        "greet(\"Alice\")\n",
        "greet()\n",
        "\n",
        "def new_greet(user=\"admin\",age=10):\n",
        "    # 님의 나이는 살입니다...\n",
        "    print(f\"{user}님의 나이는 {age}살 입니다.\")\n",
        "\n",
        "\n",
        "new_greet(\"Alice\",20)\n",
        "new_greet()\n"
      ],
      "metadata": {
        "colab": {
          "base_uri": "https://localhost:8080/"
        },
        "id": "OUuTC_HINbj2",
        "outputId": "e813445c-1102-49a5-e665-719191ce3aae"
      },
      "execution_count": null,
      "outputs": [
        {
          "output_type": "stream",
          "name": "stdout",
          "text": [
            "hello Alice님!\n",
            "hello guest님!\n",
            "Alice님의 나이는 20살 입니다.\n",
            "admin님의 나이는 10살 입니다.\n"
          ]
        }
      ]
    },
    {
      "cell_type": "code",
      "source": [
        "def add_numbers(*keyword):\n",
        "    return sum(keyword)\n",
        "\n",
        "print(add_numbers(1,2,3,4,5,6))"
      ],
      "metadata": {
        "colab": {
          "base_uri": "https://localhost:8080/"
        },
        "id": "cJZm2cDtPSUZ",
        "outputId": "f72b9082-5b63-4a22-9297-b621adb19043"
      },
      "execution_count": null,
      "outputs": [
        {
          "output_type": "stream",
          "name": "stdout",
          "text": [
            "21\n"
          ]
        }
      ]
    },
    {
      "cell_type": "code",
      "source": [
        "def print_info(**keys):\n",
        "    for key, value in keys.items():\n",
        "        print(f\"{key}:{value}\")\n",
        "\n",
        "\n",
        "print_info(name=\"Alice\",age=25,city=\"seoul\")\n",
        "\n",
        "\n",
        "# name:Alice\n",
        "# age:25\n",
        "# city:seoul\n"
      ],
      "metadata": {
        "colab": {
          "base_uri": "https://localhost:8080/"
        },
        "id": "YkNHpO9uP-AR",
        "outputId": "1cd7333f-1cf6-4cd3-b948-562ea0040eb8"
      },
      "execution_count": null,
      "outputs": [
        {
          "output_type": "stream",
          "name": "stdout",
          "text": [
            "name:Alice\n",
            "age:25\n",
            "city:seoul\n"
          ]
        }
      ]
    },
    {
      "cell_type": "markdown",
      "source": [
        "# 9-3 lambda"
      ],
      "metadata": {
        "id": "X0ujX-6TRQJJ"
      }
    },
    {
      "cell_type": "code",
      "source": [
        "square = lambda x:x**2\n",
        "\n",
        "print(square(5))\n",
        "print(square(6))\n",
        "\n",
        "circle =lambda a,b,c:a*b*c\n",
        "\n",
        "print(circle(1,2,3))\n"
      ],
      "metadata": {
        "colab": {
          "base_uri": "https://localhost:8080/"
        },
        "id": "_SYY01gDRVHB",
        "outputId": "101ba7e2-876a-4a2c-c5c1-2e95ded6cd9e"
      },
      "execution_count": null,
      "outputs": [
        {
          "output_type": "stream",
          "name": "stdout",
          "text": [
            "25\n",
            "36\n",
            "6\n"
          ]
        }
      ]
    },
    {
      "cell_type": "markdown",
      "source": [
        "# 9-4 실습예제"
      ],
      "metadata": {
        "id": "7iP1DsmUSKz7"
      }
    },
    {
      "cell_type": "code",
      "source": [
        "numbers =[1,2,3,4,5]\n",
        "\n",
        "squares =list(map(lambda x:x**2,numbers))\n",
        "\n",
        "\n",
        "print(squares)\n"
      ],
      "metadata": {
        "colab": {
          "base_uri": "https://localhost:8080/"
        },
        "id": "foqQROzvSISq",
        "outputId": "bcd864d6-fb17-4f65-d2c4-74420cc62886"
      },
      "execution_count": null,
      "outputs": [
        {
          "output_type": "stream",
          "name": "stdout",
          "text": [
            "[1, 4, 9, 16, 25]\n"
          ]
        }
      ]
    },
    {
      "cell_type": "code",
      "source": [
        "numbers =[10,15,21,30,33,40]\n",
        "\n",
        "\n",
        "result = list(filter(lambda x:x%3==0,numbers))\n",
        "\n",
        "\n",
        "print(result)"
      ],
      "metadata": {
        "colab": {
          "base_uri": "https://localhost:8080/"
        },
        "id": "k5hG6VhLS_xS",
        "outputId": "52673181-68fa-4f19-eab4-4d6985daf049"
      },
      "execution_count": null,
      "outputs": [
        {
          "output_type": "stream",
          "name": "stdout",
          "text": [
            "[15, 21, 30, 33]\n"
          ]
        }
      ]
    },
    {
      "cell_type": "code",
      "source": [
        "students=[\n",
        "    (\"홍길동\",90),\n",
        "    (\"유관순\",60),\n",
        "    (\"이순신\",80),\n",
        "]\n",
        "sorted_students=sorted(students,key=lambda x:x[1],reverse=True)\n",
        "\n",
        "print(sorted_students)"
      ],
      "metadata": {
        "colab": {
          "base_uri": "https://localhost:8080/"
        },
        "id": "l1MSnCfiXpHT",
        "outputId": "fbd34783-12bf-462e-8250-2afeb377f562"
      },
      "execution_count": null,
      "outputs": [
        {
          "output_type": "stream",
          "name": "stdout",
          "text": [
            "[('홍길동', 90), ('이순신', 80), ('유관순', 60)]\n"
          ]
        }
      ]
    },
    {
      "cell_type": "markdown",
      "source": [
        "# 9-5 중첩함수"
      ],
      "metadata": {
        "id": "kuFDfRz2Li1q"
      }
    },
    {
      "cell_type": "code",
      "source": [
        "def factorial(n):\n",
        "    if n==1:\n",
        "        return 1\n",
        "\n",
        "    return n*factorial(n-1)\n",
        "\n",
        "print(factorial(4))#4*3*2"
      ],
      "metadata": {
        "colab": {
          "base_uri": "https://localhost:8080/"
        },
        "id": "ThR6PjRoUHcd",
        "outputId": "febea7ee-da38-4d38-9779-c6f811c9b043"
      },
      "execution_count": null,
      "outputs": [
        {
          "output_type": "stream",
          "name": "stdout",
          "text": [
            "24\n"
          ]
        }
      ]
    },
    {
      "cell_type": "code",
      "source": [
        "def outer_function(msg):\n",
        "    def inner_function():\n",
        "        print(msg+\"!!!\")\n",
        "    inner_function()\n",
        "outer_function(\"hello python!\")\n"
      ],
      "metadata": {
        "colab": {
          "base_uri": "https://localhost:8080/"
        },
        "id": "9PQv7ifzU5x2",
        "outputId": "342208ba-7eef-4713-f2e0-1b51372d78b5"
      },
      "execution_count": null,
      "outputs": [
        {
          "output_type": "stream",
          "name": "stdout",
          "text": [
            "hello python!!!!\n"
          ]
        }
      ]
    },
    {
      "cell_type": "code",
      "source": [
        "def outer(name):\n",
        "    def inner():\n",
        "        return f\"{name}님 안녕하세요!\"\n",
        "    return inner()\n",
        "\n",
        "\n",
        "print(outer(\"홍길동\"))"
      ],
      "metadata": {
        "colab": {
          "base_uri": "https://localhost:8080/"
        },
        "id": "j-xrl5PnVfu-",
        "outputId": "9e16f378-5d16-4573-d72e-f7796a289e6a"
      },
      "execution_count": null,
      "outputs": [
        {
          "output_type": "stream",
          "name": "stdout",
          "text": [
            "홍길동님 안녕하세요!\n"
          ]
        }
      ]
    },
    {
      "cell_type": "code",
      "source": [
        "def greeting(name):\n",
        "    def message():\n",
        "        print(f\"{name}님 안녕하세요\")\n",
        "    return message\n",
        "\n",
        "say_hi = greeting(\"파이썬!\")\n",
        "\n",
        "say_hi()"
      ],
      "metadata": {
        "colab": {
          "base_uri": "https://localhost:8080/"
        },
        "id": "ydowCoSsWNMu",
        "outputId": "4a921f85-a6a7-4d83-8aca-75c578539033"
      },
      "execution_count": null,
      "outputs": [
        {
          "output_type": "stream",
          "name": "stdout",
          "text": [
            "파이썬!님 안녕하세요\n"
          ]
        }
      ]
    },
    {
      "cell_type": "code",
      "source": [
        "#최대값, 최소값 찾기\n",
        "def max_fuc(num):\n",
        "    return max(num)\n",
        "def min_fuc(num):\n",
        "    return min(num)\n",
        "\n",
        "\n",
        "print(max_fuc([1,2,3,4,5]))\n",
        "print(min_fuc([1,2,3,4,5]))"
      ],
      "metadata": {
        "colab": {
          "base_uri": "https://localhost:8080/"
        },
        "id": "0gKm0qjGWrhu",
        "outputId": "1674a30a-96ee-42c4-eae0-691b3c63d793"
      },
      "execution_count": null,
      "outputs": [
        {
          "output_type": "stream",
          "name": "stdout",
          "text": [
            "5\n",
            "1\n"
          ]
        }
      ]
    },
    {
      "cell_type": "code",
      "source": [
        "def reverse_string(s):\n",
        "    return s[::-1]\n",
        "\n",
        "print(reverse_string(\"hello python!\"))"
      ],
      "metadata": {
        "colab": {
          "base_uri": "https://localhost:8080/"
        },
        "id": "W0GauxirXP8G",
        "outputId": "5fe2b995-d712-4630-c720-61f761876da7"
      },
      "execution_count": null,
      "outputs": [
        {
          "output_type": "stream",
          "name": "stdout",
          "text": [
            "!nohtyp olleh\n"
          ]
        }
      ]
    }
  ]
}